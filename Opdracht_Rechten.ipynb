{
 "cells": [
  {
   "cell_type": "markdown",
   "metadata": {},
   "source": [
    "<div>\n",
    "    <font color=#690027 markdown=\"1\">\n",
    "        <h1>Opdracht: RECHTEN</h1> \n",
    "    </font>\n",
    "</div>"
   ]
  },
  {
   "cell_type": "markdown",
   "metadata": {},
   "source": [
    "Vul hier je naam in:......................"
   ]
  },
  {
   "cell_type": "markdown",
   "metadata": {},
   "source": [
    "### **Opdracht: Grafiek van Magnetische Flux** \n",
    "\n",
    "Je gaat in deze opdracht een grafiek maken die het verband toont tussen het oppervlak \\( A \\) en de magnetische flux $\\Phi$. Je gebruikt Python met de libraries `numpy` en `matplotlib` om de grafiek te genereren.  \n",
    "\n",
    "### **Vereisten:**  \n",
    "1. **Maak een figuur** met correcte assenlabels:\n",
    "   - $A$ in cm² op de x-as.\n",
    "   - $\\Phi$ in µWb op de y-as.  \n",
    "2. **Plot twee rechte lijnen** met verschillende kleuren op basis van de volgende functies:  \n",
    "   - **Meting 1** $\\Phi_1 = 3 \\cdot A + 0$\n",
    "   - **Meting 2** $\\Phi_2 = 6 \\cdot A + 0$\n",
    "3. **Neem voor A** volgende meetpunten $A = [2.0, 3.0, 4.0, 5.0] cm^2$\n",
    "3. **Voeg een legenda** toe met de labels \"meting 1\" en \"meting 2\".  \n",
    "4. **Kies passende thicks**\n",
    "5. **Zorg voor een raster** met fijne en gestippelde lijnen.\n",
    "\n",
    "**Schrijf een Python-script dat de grafiek correct genereert.**\n"
   ]
  },
  {
   "cell_type": "code",
   "execution_count": null,
   "metadata": {},
   "outputs": [],
   "source": [
    "\n",
    "\n",
    "\n",
    "\n"
   ]
  },
  {
   "cell_type": "markdown",
   "metadata": {},
   "source": [
    "### **Opdracht: Magnetische Veldsterkte als Functie van $r$ en Snijpuntbepaling**  \n",
    "\n",
    "Je gaat in deze opdracht een grafiek maken die het verband toont tussen de afstand $r$ en de magnetische veldsterkte $B$. Je gebruikt Python met de libraries `numpy`, `matplotlib` en `sympy` om de grafiek te genereren en het snijpunt tussen de twee functies te berekenen.  \n",
    "\n",
    "### **Vereisten:**  \n",
    "1. **Maak een figuur** met correcte assenlabels:  \n",
    "   - $r$ in $cm$ op de x-as.  \n",
    "   - $B$ in $mT$ op de y-as.  \n",
    "2. **Plot twee krommen** met verschillende kleuren op basis van de volgende functies:  \n",
    "   - **Meting 1:**  $B_1 = \\frac{6}{r_1}$\n",
    "   - **Meting 2:**  $B_2 = \\frac{10}{r_1 + 2}$  (Meetpunt 2 cm verder dan $r_1$)\n",
    "3. **Bepaal het snijpunt** van de twee krommen met `sympy` en geef de coördinaten weer.  \n",
    "4. **Teken het snijpunt** op de grafiek als een opvallend punt (bv. rode stip).  (Met de optie `zorder=3` zorg je ervoor dat het punt boven de andere grafieken geplaatst wordt.)\n",
    "5. **Voeg een legenda** toe met de labels \"meting 1\" en \"meting 2\".  \n",
    "6. **Kies passende ticks** voor $r = [1.0, ... , 10.0] cm$  \n",
    "7. **Zorg voor een raster** met fijne en gestippelde lijnen voor een overzicht.\n",
    "\n",
    "**Schrijf een Python-script dat de grafiek correct genereert en het snijpunt berekent en visualiseert.**"
   ]
  },
  {
   "cell_type": "code",
   "execution_count": null,
   "metadata": {},
   "outputs": [],
   "source": []
  },
  {
   "cell_type": "markdown",
   "metadata": {},
   "source": [
    "### **Download je notebook, voer je naam toe aan het bestand \"Opdracht_Rechten_Voornaam.ipynb\" en upload je notebook in de uploadzone Opdracht_Rechten.**"
   ]
  }
 ],
 "metadata": {
  "kernelspec": {
   "display_name": "Python 3 (ipykernel)",
   "language": "python",
   "name": "python3"
  },
  "language_info": {
   "codemirror_mode": {
    "name": "ipython",
    "version": 3
   },
   "file_extension": ".py",
   "mimetype": "text/x-python",
   "name": "python",
   "nbconvert_exporter": "python",
   "pygments_lexer": "ipython3",
   "version": "3.11.6"
  }
 },
 "nbformat": 4,
 "nbformat_minor": 4
}
